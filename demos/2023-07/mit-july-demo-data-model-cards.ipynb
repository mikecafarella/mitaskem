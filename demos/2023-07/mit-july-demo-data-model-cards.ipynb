{
 "cells": [
  {
   "cell_type": "markdown",
   "id": "7f6a1aaa",
   "metadata": {
    "pycharm": {
     "name": "#%% md\n"
    }
   },
   "source": [
    "# MIT (TA1): Data and model cards\n"
   ]
  },
  {
   "cell_type": "markdown",
   "id": "8f6cdd8b",
   "metadata": {
    "pycharm": {
     "name": "#%% md\n"
    }
   },
   "source": [
    "## 0. Preprocessing"
   ]
  },
  {
   "cell_type": "code",
   "execution_count": 1,
   "id": "d07d53d5",
   "metadata": {
    "pycharm": {
     "name": "#%%\n"
    }
   },
   "outputs": [],
   "source": [
    "import ast, json, requests, os\n",
    "from gpt_key import *\n",
    "API_ROOT = \"http://localhost:8000/\""
   ]
  },
  {
   "cell_type": "markdown",
   "id": "d382c8c7",
   "metadata": {
    "pycharm": {
     "name": "#%% md\n"
    }
   },
   "source": [
    "## 1. Get data card"
   ]
  },
  {
   "cell_type": "markdown",
   "id": "7fe51f05",
   "metadata": {
    "pycharm": {
     "name": "#%% md\n"
    }
   },
   "source": [
    "[http://100.26.10.46/#/Data-and-model-cards/get_data_card_cards_get_data_card_post](http://100.26.10.46/#/Data-and-model-cards/get_data_card_cards_get_data_card_post)"
   ]
  },
  {
   "cell_type": "code",
   "execution_count": 2,
   "id": "0ab278fe",
   "metadata": {
    "pycharm": {
     "name": "#%%\n"
    }
   },
   "outputs": [
    {
     "name": "stdout",
     "output_type": "stream",
     "text": [
      "{\"DESCRIPTION\":\"COVID-19 Wastewater Surveillance: An Epidemiological Model\",\"AUTHOR_NAME\":\"Mehrdad Fazli, Samuel Sklar, Michael D Porter, Brent A French, Heman Shakeri\",\"AUTHOR_EMAIL\":\"UNKNOWN\",\"DATE\":\"2021-10-19\",\"PROVENANCE\":\"Using wastewater surveillance as a continuous pooled sampling technique\",\"SENSITIVITY\":\"UNKNOWN\",\"LICENSE\":\"UNKNOWN\",\"SCHEMA\":[\"dates\",\"VAX_count\",\"day\",\"sdm\",\"events\",\"I_1\",\"I_2\",\"I_3\",\"Y_1\",\"Y_2\",\"Y_3\",\"V_1\",\"V_2\",\"V_3\",\"Infected\",\"Y\",\"V\",\"logV\"],\"EXAMPLES\":{\"dates\":\"2021-03-26\",\"VAX_count\":\"45\",\"day\":\"381\",\"sdm\":\"0.2\",\"events\":\"0.1\",\"I_1\":\"47\",\"I_2\":\"17\",\"I_3\":\"37\",\"Y_1\":\"2\",\"Y_2\":\"0\",\"Y_3\":\"0\",\"V_1\":\"121819.96094387663\",\"V_2\":\"35172.86042972318\",\"V_3\":\"64711.75454987148\",\"Infected\":\"101\",\"Y\":\"2\",\"V\":\"70553.705606119\",\"logV\":\"11.164129480439072\"},\"DATA_PROFILING_RESULT\":{\"dates\":{\"col_name\":\"dates\",\"concept\":\"Time\",\"unit\":\"YYYY-MM-DD\",\"description\":\"The date when the data was recorded\",\"dkg_groundings\":[[\"pato:0000165\",\"time\",\"class\"],[\"gfo:Time\",\"time\",\"class\"],[\"geonames:2365173\",\"Maritime\",\"individual\"],[\"wikidata:Q174728\",\"centimeter\",\"class\"],[\"probonto:k0000056\",\"nondecisionTime\",\"class\"],[\"hp:0001147\",\"Retinal exudate\",\"class\"],[\"hp:0030496\",\"Macular exudate\",\"class\"],[\"ncit:C114947\",\"Postterm Infant\",\"class\"],[\"oae:0006126\",\"retinal exudates AE\",\"class\"],[\"oae:0008293\",\"large for dates baby AE\",\"class\"]],\"column_stats\":{\"type\":\"date\",\"most_common_entries\":{\"2020-03-10T00:00:00\":1,\"2021-02-28T00:00:00\":1,\"2021-03-14T00:00:00\":1,\"2021-03-13T00:00:00\":1,\"2021-03-12T00:00:00\":1,\"2021-03-11T00:00:00\":1,\"2021-03-10T00:00:00\":1,\"2021-03-09T00:00:00\":1,\"2021-03-08T00:00:00\":1,\"2021-03-07T00:00:00\":1},\"num_unique_entries\":540,\"earliest\":\"2020-03-10T00:00:00\",\"latest\":\"2021-08-31T00:00:00\"}},\"VAX_count\":{\"col_name\":\"VAX_count\",\"concept\":\"Vaccination\",\"unit\":\"Count\",\"description\":\"The number of vaccinations administered on the recorded date\",\"dkg_groundings\":[[\"apollosv:00000142\",\"vaccination\",\"class\"],[\"idomal:0001040\",\"vaccination\",\"class\"],[\"vo:0000002\",\"vaccination\",\"class\"],[\"askemo:0000012\",\"vaccination rate\",\"class\"],[\"vo:0000814\",\"vaccination dose\",\"class\"]],\"column_stats\":{\"mean\":44.56481481481482,\"std\":91.57703785200043,\"min\":0.0,\"25%\":0.0,\"50%\":0.0,\"75%\":45.25,\"max\":587.0,\"type\":\"numeric\"}},\"day\":{\"col_name\":\"day\",\"concept\":\"Time\",\"unit\":\"Day\",\"description\":\"The day count since the start of data recording\",\"dkg_groundings\":[[\"pato:0000165\",\"time\",\"class\"],[\"gfo:Time\",\"time\",\"class\"],[\"geonames:2365173\",\"Maritime\",\"individual\"],[\"wikidata:Q174728\",\"centimeter\",\"class\"],[\"probonto:k0000056\",\"nondecisionTime\",\"class\"],[\"wikidata:Q573\",\"day\",\"class\"],[\"geonames:3099434\",\"Gdańsk\",\"individual\"],[\"geonames:1263814\",\"Mandya\",\"individual\"],[\"geonames:1275163\",\"Budaun\",\"individual\"],[\"geonames:358269\",\"Dayrūţ\",\"individual\"]],\"column_stats\":{\"mean\":269.5,\"std\":156.02884348735012,\"min\":0.0,\"25%\":134.75,\"50%\":269.5,\"75%\":404.25,\"max\":539.0,\"type\":\"numeric\"}},\"sdm\":{\"col_name\":\"sdm\",\"concept\":\"Social Distancing Measure\",\"unit\":\"Ratio\",\"description\":\"The level of social distancing measures in place, represented as a ratio\",\"dkg_groundings\":[[\"wikidata:Q91104866\",\"social distancing measures related to the 2019–20 coronavirus pandemic\",\"class\"],[\"wikidata:Q96612699\",\"Social distancing measures: evidence of interruption of seasonal influenza activity and early lessons of the SARS-CoV-2 pandemic\",\"class\"],[\"wikidata:Q99612241\",\"Social distancing measures in the fight against COVID-19 in Brazil: description and epidemiological analysis by state\",\"class\"],[\"wikidata:Q104138004\",\"Social distancing measures and demands for the reorganization of hemotherapy services in the context of Covid-19\",\"class\"],[\"wikidata:Q96290984\",\"Social distancing measures to control the COVID-19 pandemic: potential impacts and challenges in Brazil\",\"class\"],[\"geonames:2852458\",\"Potsdam\",\"individual\"],[\"pr:Q9D8T2\",\"gasdermin-D (mouse)\",\"class\"],[\"pr:P57764\",\"gasdermin-D (human)\",\"class\"],[\"pr:Q14696\",\"LRP chaperone MESD (human)\",\"class\"],[\"cido:0013402\",\"SARS-CoV-2-human S-DMD physical association\",\"class\"]],\"column_stats\":{\"mean\":0.33188518518518517,\"std\":0.33411446629713515,\"min\":0.04,\"25%\":0.089,\"50%\":0.12,\"75%\":0.6,\"max\":1.0,\"type\":\"numeric\"}},\"events\":{\"col_name\":\"events\",\"concept\":\"Events\",\"unit\":\"Count\",\"description\":\"The number of events that could potentially spread the virus\",\"dkg_groundings\":[[\"hp:0001907\",\"Thromboembolism\",\"class\"],[\"hp:0001297\",\"Stroke\",\"class\"],[\"pr:Q9GZR2\",\"RNA exonuclease 4 (human)\",\"class\"],[\"cemo:number_of_cases_with_exposure_events\",\"number of cases with exposure events\",\"class\"],[\"cemo:number_of_schools_with_exposure_events\",\"number of schools with exposure events\",\"class\"]],\"column_stats\":{\"mean\":0.12259259259259257,\"std\":0.16684550289840552,\"min\":0.0,\"25%\":0.1,\"50%\":0.1,\"75%\":0.1,\"max\":0.8,\"type\":\"numeric\"}},\"I_1\":{\"col_name\":\"I_1\",\"concept\":\"Infectious Population\",\"unit\":\"Count\",\"description\":\"The number of infectious individuals in the first compartment of the SEIR model\",\"dkg_groundings\":[[\"chebi:189658\",\"4EGI-1\",\"class\"],[\"vo:0011274\",\"LmSTI1\",\"class\"],[\"ogg:3001197075\",\"BMEI1364\",\"class\"],[\"probonto:k0001243\",\"Chi1\",\"class\"],[\"probonto:k0000361\",\"ParetoTypeI1\",\"class\"]],\"column_stats\":{\"mean\":58.92037037037037,\"std\":54.643719981744255,\"min\":1.0,\"25%\":14.0,\"50%\":48.0,\"75%\":83.25,\"max\":221.0,\"type\":\"numeric\"}},\"I_2\":{\"col_name\":\"I_2\",\"concept\":\"Infectious Population\",\"unit\":\"Count\",\"description\":\"The number of infectious individuals in the second compartment of the SEIR model\",\"dkg_groundings\":[[\"vo:0005238\",\"VBI-2902a\",\"class\"],[\"probonto:k0000028\",\"Bernoulli2\",\"class\"],[\"chebi:189653\",\"pelabresib\",\"class\"],[\"pr:P08582\",\"melanotransferrin (human)\",\"class\"],[\"pr:Q15477\",\"helicase SKI2W (human)\",\"class\"]],\"column_stats\":{\"mean\":43.25925925925926,\"std\":57.52591903856349,\"min\":0.0,\"25%\":7.0,\"50%\":21.0,\"75%\":47.25,\"max\":229.0,\"type\":\"numeric\"}},\"I_3\":{\"col_name\":\"I_3\",\"concept\":\"Infectious Population\",\"unit\":\"Count\",\"description\":\"The number of infectious individuals in the third compartment of the SEIR model\",\"dkg_groundings\":[[\"chebi:82721\",\"dalbavancin\",\"class\"],[\"pr:Q13501\",\"sequestosome-1 (human)\",\"class\"],[\"doid:0111936\",\"immunodeficiency 14\",\"class\"],[\"pr:Q8WY22\",\"BRI3-binding protein (human)\",\"class\"],[\"cido:0013240\",\"SARS-CoV-2-human S-ERI3 association\",\"class\"]],\"column_stats\":{\"mean\":79.17407407407407,\"std\":64.41469941710787,\"min\":0.0,\"25%\":39.0,\"50%\":64.0,\"75%\":97.0,\"max\":291.0,\"type\":\"numeric\"}},\"Y_1\":{\"col_name\":\"Y_1\",\"concept\":\"Case Count\",\"unit\":\"Count\",\"description\":\"The number of confirmed cases in the first compartment of the SEIR model\",\"dkg_groundings\":[[\"wikidata:Q36803786\",\"Case counting in epidemiology: limitations of methods based on multiple data sources\",\"class\"],[\"probonto:k0001393\",\"Levy1\",\"class\"],[\"doid:0060728\",\"NGLY1-deficiency\",\"class\"],[\"probonto:k0000274\",\"Cauchy1\",\"class\"],[\"chebi:145798\",\"ouabain(1-)\",\"class\"],[\"chebi:145795\",\"digoxin(1-)\",\"class\"]],\"column_stats\":{\"mean\":1.5,\"std\":1.7931016028297173,\"min\":0.0,\"25%\":0.0,\"50%\":1.0,\"75%\":2.0,\"max\":13.0,\"type\":\"numeric\"}},\"Y_2\":{\"col_name\":\"Y_2\",\"concept\":\"Case Count\",\"unit\":\"Count\",\"description\":\"The number of confirmed cases in the second compartment of the SEIR model\",\"dkg_groundings\":[[\"wikidata:Q36803786\",\"Case counting in epidemiology: limitations of methods based on multiple data sources\",\"class\"],[\"vo:0012363\",\"AY243312\",\"class\"],[\"idomal:0001137\",\"Py235\",\"class\"],[\"chebi:93829\",\"4-[1-hydroxy-2-[4-(phenylmethyl)-1-piperidinyl]propyl]phenol\",\"class\"],[\"chebi:32458\",\"cysteinium\",\"class\"],[\"chebi:32613\",\"isoleucinium\",\"class\"]],\"column_stats\":{\"mean\":1.1555555555555554,\"std\":1.713708416503968,\"min\":0.0,\"25%\":0.0,\"50%\":0.0,\"75%\":2.0,\"max\":10.0,\"type\":\"numeric\"}},\"Y_3\":{\"col_name\":\"Y_3\",\"concept\":\"Case Count\",\"unit\":\"Count\",\"description\":\"The number of confirmed cases in the third compartment of the SEIR model\",\"dkg_groundings\":[[\"wikidata:Q36803786\",\"Case counting in epidemiology: limitations of methods based on multiple data sources\",\"class\"],[\"chebi:82699\",\"oritavancin\",\"class\"],[\"chebi:95341\",\"baricitinib\",\"class\"],[\"chebi:180654\",\"N(4)-hydroxycytidine\",\"class\"],[\"chebi:28001\",\"vancomycin\",\"class\"],[\"chebi:2955\",\"azithromycin\",\"class\"]],\"column_stats\":{\"mean\":1.962962962962963,\"std\":1.9230364340387716,\"min\":0.0,\"25%\":1.0,\"50%\":1.0,\"75%\":3.0,\"max\":10.0,\"type\":\"numeric\"}},\"V_1\":{\"col_name\":\"V_1\",\"concept\":\"Viral Load\",\"unit\":\"Count\",\"description\":\"The viral load in the first compartment of the SEIR model\",\"dkg_groundings\":[[\"vido:0001331\",\"viral load\",\"class\"],[\"vsmo:0000051\",\"viral load of arthropod\",\"class\"],[\"ncit:C171133\",\"COVID-19 Infection\",\"class\"],[\"idomal:0000883\",\"SV1\",\"class\"],[\"vo:0005227\",\"BBV154\",\"class\"],[\"vo:0004774\",\"NYVAC-HIV-1\",\"class\"],[\"vo:0004996\",\"AdCLD-CoV19\",\"class\"]],\"column_stats\":{\"mean\":99144.7632252408,\"std\":93740.91643752693,\"min\":1002.3180237027808,\"25%\":22667.889843027777,\"50%\":74545.22882665138,\"75%\":142646.6753042973,\"max\":406371.4656460259,\"type\":\"numeric\"}},\"V_2\":{\"col_name\":\"V_2\",\"concept\":\"Viral Load\",\"unit\":\"Count\",\"description\":\"The viral load in the second compartment of the SEIR model\",\"dkg_groundings\":[[\"vido:0001331\",\"viral load\",\"class\"],[\"vsmo:0000051\",\"viral load of arthropod\",\"class\"],[\"ncit:C171133\",\"COVID-19 Infection\",\"class\"],[\"vo:0005255\",\"ABNCoV2\",\"class\"],[\"vo:0005169\",\"GRAd-COV2\",\"class\"],[\"vo:0005196\",\"VXA-CoV2-1\",\"class\"],[\"vo:0005263\",\"CoV2-OGEN1\",\"class\"]],\"column_stats\":{\"mean\":72336.3696113207,\"std\":96313.92441935057,\"min\":0.0,\"25%\":10711.966807814451,\"50%\":35411.995339615874,\"75%\":80219.22502508922,\"max\":398459.3191052788,\"type\":\"numeric\"}},\"V_3\":{\"col_name\":\"V_3\",\"concept\":\"Viral Load\",\"unit\":\"Count\",\"description\":\"The viral load in the third compartment of the SEIR model\",\"dkg_groundings\":[[\"vido:0001331\",\"viral load\",\"class\"],[\"vsmo:0000051\",\"viral load of arthropod\",\"class\"],[\"vo:0004656\",\"rBCGpMV361-TgCyP\",\"class\"],[\"vo:0004695\",\"PAV3-HA (H5N1)\",\"class\"],[\"ncbitaxon:1403205\",\"Coronavirus PgCoV-3\",\"class\"],[\"ncbitaxon:1289548\",\"Coronavirus Mex_CoV-3\",\"class\"],[\"ncbitaxon:2717647\",\"Coronavirus PREDICT_CoV-35\",\"class\"]],\"column_stats\":{\"mean\":132590.61245229366,\"std\":109802.3466819619,\"min\":0.0,\"25%\":64695.0859253356,\"50%\":108511.3956589609,\"75%\":164867.68024359224,\"max\":513957.0474296356,\"type\":\"numeric\"}},\"Infected\":{\"col_name\":\"Infected\",\"concept\":\"Infection\",\"unit\":\"Count\",\"description\":\"The total number of infected individuals\",\"dkg_groundings\":[[\"ncit:C171133\",\"COVID-19 Infection\",\"class\"],[\"ncit:C128320\",\"Infection\",\"class\"],[\"apollosv:00000114\",\"infection\",\"class\"],[\"ido:0000586\",\"infection\",\"class\"],[\"ncit:C177387\",\"Reinfection\",\"class\"],[\"ido:0000511\",\"infected population\",\"class\"],[\"efo:0001460\",\"uninfected\",\"class\"],[\"vsmo:0000268\",\"infected\",\"class\"],[\"doid:13117\",\"paronychia\",\"class\"],[\"idomal:0001129\",\"RESA-155\",\"class\"]],\"column_stats\":{\"mean\":181.3537037037037,\"std\":166.84490838993227,\"min\":5.0,\"25%\":93.0,\"50%\":127.0,\"75%\":194.0,\"max\":728.0,\"type\":\"numeric\"}},\"Y\":{\"col_name\":\"Y\",\"concept\":\"Case Count\",\"unit\":\"Count\",\"description\":\"The total number of confirmed cases\",\"dkg_groundings\":[[\"wikidata:Q36803786\",\"Case counting in epidemiology: limitations of methods based on multiple data sources\",\"class\"],[\"ncit:C171133\",\"COVID-19 Infection\",\"class\"],[\"ido:0000621\",\"acquired immunity to infectious agent\",\"class\"],[\"ido:0000569\",\"asymptomatic host of infectious agent\",\"class\"],[\"geonames:1848522\",\"Yao\",\"individual\"],[\"geonames:363619\",\"Yei\",\"individual\"]],\"column_stats\":{\"mean\":4.618518518518519,\"std\":4.375979045463479,\"min\":0.0,\"25%\":2.0,\"50%\":3.0,\"75%\":6.0,\"max\":24.0,\"type\":\"numeric\"}},\"V\":{\"col_name\":\"V\",\"concept\":\"Viral Load\",\"unit\":\"Count\",\"description\":\"The total viral load\",\"dkg_groundings\":[[\"vido:0001331\",\"viral load\",\"class\"],[\"vsmo:0000051\",\"viral load of arthropod\",\"class\"],[\"ncit:C171133\",\"COVID-19 Infection\",\"class\"],[\"ncit:C53511\",\"Intensive Care Unit\",\"class\"],[\"ido:0000597\",\"host exposure to environment containing infectious agent\",\"class\"],[\"ncit:C154475\",\"Discharged Alive\",\"class\"],[\"geonames:298117\",\"Van\",\"individual\"]],\"column_stats\":{\"mean\":94945.09441078735,\"std\":87761.06214864712,\"min\":2032.6239080010116,\"25%\":45637.861836625896,\"50%\":66436.08220887893,\"75%\":102594.28449145911,\"max\":404785.44328658737,\"type\":\"numeric\"}},\"logV\":{\"col_name\":\"logV\",\"concept\":\"Viral Load\",\"unit\":\"Logarithmic Scale\",\"description\":\"The total viral load represented on a logarithmic scale\",\"dkg_groundings\":[[\"vido:0001331\",\"viral load\",\"class\"],[\"vsmo:0000051\",\"viral load of arthropod\",\"class\"],[\"wikidata:Q2589313\",\"Logvino\",\"class\"],[\"wikidata:Q4265044\",\"Logvin\",\"class\"],[\"wikidata:Q21337279\",\"Logvinovka\",\"class\"],[\"wikidata:Q4265064\",\"Logvinivka\",\"class\"],[\"wikidata:Q12083595\",\"Logvyn F. Boiko\",\"class\"]],\"column_stats\":{\"mean\":11.064899833546166,\"std\":0.9704131476024136,\"min\":7.617082802909907,\"25%\":10.728492713353576,\"50%\":11.103994827924955,\"75%\":11.538537492141966,\"max\":12.9111124360484,\"type\":\"numeric\"}}}}\n"
     ]
    }
   ],
   "source": [
    "csv_name = \"abm.csv\"\n",
    "doc_name = \"abm_doc.txt\"\n",
    "\n",
    "with open(csv_name, 'rb') as f_csv, open(doc_name,  'rb') as f_doc:\n",
    "    files = {'csv_file': ('filename', f_csv), 'doc_file': ('filename', f_doc)}\n",
    "    params = {\"gpt_key\": GPT_KEY}\n",
    "    response = requests.post(API_ROOT + \"cards/get_data_card/\",  params=params,  files=files)\n",
    "    json_str = response.text\n",
    "print(json_str)\n"
   ]
  },
  {
   "cell_type": "markdown",
   "id": "7543b56f",
   "metadata": {
    "pycharm": {
     "name": "#%% md\n"
    }
   },
   "source": [
    "## 2. Get model card"
   ]
  },
  {
   "cell_type": "markdown",
   "id": "8ac39918",
   "metadata": {
    "pycharm": {
     "name": "#%% md\n"
    }
   },
   "source": [
    "[http://100.26.10.46/#/Data-and-model-cards/get_model_card_cards_get_model_card_post](http://100.26.10.46/#/Data-and-model-cards/get_model_card_cards_get_model_card_post)"
   ]
  },
  {
   "cell_type": "code",
   "execution_count": 7,
   "id": "88718f30",
   "metadata": {
    "pycharm": {
     "name": "#%%\n"
    }
   },
   "outputs": [
    {
     "name": "stdout",
     "output_type": "stream",
     "text": [
      "{\"DESCRIPTION\":\"Understanding the dynamics of SARS‑CoV‑2 variants of concern in Ontario, Canada: a modeling study\",\"AUTHOR_INST\":\"University of Waterloo\",\"AUTHOR_AUTHOR\":\"Anita T. Layton, Mehrshad Sadria\",\"AUTHOR_EMAIL\":\"anita.layton@uwaterloo.ca\",\"DATE\":\"UNKNOWN\",\"SCHEMA\":\"The model simulates the spread of three SARS-CoV-2 strains: wild type, Alpha, and Delta. It considers the dynamics of susceptible, infected, recovered, and vaccinated populations, as well as the interactions among different variants and the effects of non-pharmaceutical interventions (NPI).\",\"PROVENANCE\":\"The model was developed to better understand the spread of SARS-CoV-2 variants of concern in Ontario, Canada, and to assess the effectiveness of vaccination and non-pharmaceutical interventions (NPI) in controlling the spread. The study used a computational modeling approach to simulate the dynamics of the virus and evaluate different scenarios.\",\"DATASET\":\"UNKNOWN\",\"COMPLEXITY\":\"The model is a simplified version of the SV2(AIR)3 model, which represents the dynamics of multiple SARS-CoV-2 variants and their competition. It considers various parameters such as infectivity, vaccination rate, recovery rate, and vaccine escape rate to capture the complexity of the virus spread.\",\"USAGE\":\"The model can be used to understand the dynamics of SARS-CoV-2 variants of concern and assess the effectiveness of different interventions, such as vaccination and non-pharmaceutical interventions, in controlling the spread of the virus. It can help policymakers and public health authorities make informed decisions to mitigate the impact of the virus.\",\"LICENSE\":\"UNKNOWN\"}\n"
     ]
    }
   ],
   "source": [
    "text_name = \"text_s41598-022-06159-short.txt\"\n",
    "code_name = \"scenario2code.txt\"\n",
    "\n",
    "with open(text_name, 'rb') as f_text, open(code_name, 'rb') as f_code:\n",
    "    files = { 'text_file': ('filename', f_text),'code_file': ('filename', f_code)}\n",
    "    params = {\"gpt_key\": GPT_KEY}\n",
    "    response = requests.post(API_ROOT + \"cards/get_model_card\", params=params, files=files)\n",
    "    print(response.text)"
   ]
  },
  {
   "cell_type": "code",
   "execution_count": null,
   "id": "69af103e",
   "metadata": {
    "pycharm": {
     "name": "#%%\n"
    }
   },
   "outputs": [],
   "source": []
  }
 ],
 "metadata": {
  "kernelspec": {
   "display_name": "Python 3",
   "language": "python",
   "name": "python3"
  },
  "language_info": {
   "codemirror_mode": {
    "name": "ipython",
    "version": 3
   },
   "file_extension": ".py",
   "mimetype": "text/x-python",
   "name": "python",
   "nbconvert_exporter": "python",
   "pygments_lexer": "ipython3",
   "version": "3.8.8"
  }
 },
 "nbformat": 4,
 "nbformat_minor": 5
}
